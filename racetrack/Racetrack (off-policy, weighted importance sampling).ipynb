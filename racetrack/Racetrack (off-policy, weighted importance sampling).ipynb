{
 "cells": [
  {
   "cell_type": "code",
   "execution_count": 1,
   "metadata": {
    "collapsed": false
   },
   "outputs": [],
   "source": [
    "%matplotlib inline\n",
    "\n",
    "import os\n",
    "import sys\n",
    "\n",
    "import gym\n",
    "import matplotlib\n",
    "import numpy as np\n",
    "\n",
    "from collections import defaultdict\n",
    "\n",
    "from racetrack_env import RacetrackEnv, Map\n",
    "\n",
    "matplotlib.style.use('ggplot')\n",
    "\n",
    "N_EPISODE = 1000000\n",
    "MAX_STEP = 100\n",
    "SAVE_FILE = 'racetrack-offpolicy.sav'"
   ]
  },
  {
   "cell_type": "code",
   "execution_count": 2,
   "metadata": {
    "collapsed": false
   },
   "outputs": [],
   "source": [
    "!rm $SAVE_FILE"
   ]
  },
  {
   "cell_type": "code",
   "execution_count": 3,
   "metadata": {
    "collapsed": false
   },
   "outputs": [],
   "source": [
    "with open('racetrack_map_4.txt', 'r') as f:\n",
    "    amap = Map(f.read(), v_mgn=2, h_mgn=2)\n",
    "vel_info = (\n",
    "    0, 2,  # vx min/max\n",
    "    -2, 2   # vy min/max\n",
    ")\n",
    "env = RacetrackEnv(amap, vel_info, MAX_STEP)"
   ]
  },
  {
   "cell_type": "code",
   "execution_count": 4,
   "metadata": {
    "collapsed": false
   },
   "outputs": [],
   "source": [
    "def create_random_policy(env):\n",
    "    \"\"\"\n",
    "    Creates a random policy function.\n",
    "    \n",
    "    Args:\n",
    "        nA: Number of actions in the environment.\n",
    "    \n",
    "    Returns:\n",
    "        A function that takes an observation as input and returns a vector\n",
    "        of action probabilities\n",
    "    \"\"\"\n",
    "    nA = env.action_space.n\n",
    "    A = np.ones(nA, dtype=float) / nA\n",
    "\n",
    "    def policy_fn(observation):\n",
    "        return env.regulate_probs(observation, A)\n",
    "    \n",
    "    return policy_fn"
   ]
  },
  {
   "cell_type": "code",
   "execution_count": 5,
   "metadata": {
    "collapsed": true
   },
   "outputs": [],
   "source": [
    "def create_greedy_policy(Q):\n",
    "    \"\"\"\n",
    "    Creates a greedy policy based on Q values.\n",
    "    \n",
    "    Args:\n",
    "        Q: A dictionary that maps from state -> action values\n",
    "        \n",
    "    Returns:\n",
    "        A function that takes an observation as input and returns a vector\n",
    "        of action probabilities.\n",
    "    \"\"\"\n",
    "    \n",
    "    def policy_fn(state):\n",
    "        A = np.zeros_like(Q[state], dtype=float)\n",
    "        best_action = np.argmax(Q[state])\n",
    "        A[best_action] = 1.0\n",
    "        return A\n",
    "    return policy_fn"
   ]
  },
  {
   "cell_type": "code",
   "execution_count": 6,
   "metadata": {
    "collapsed": false
   },
   "outputs": [],
   "source": [
    "def mc_control_importance_sampling(env, num_episodes, behavior_policy, discount_factor=1.0):\n",
    "    \"\"\"\n",
    "    가중 중요 샘플링을 이용한 몬테카를로 Off 정책 컨트롤. greedy한 최적 정책을 찾는다.\n",
    "    Monte Carlo Control Off-Policy Control using Weighted Importance Sampling.\n",
    "    Finds an optimal greedy policy.\n",
    "    \n",
    "    Args:\n",
    "        env: OpenAI gym environment.\n",
    "        num_episodes: Nubmer of episodes to sample.\n",
    "        behavior_policy: The behavior to follow while generating episodes.\n",
    "            A function that given an observation returns a vector of probabilities for each action.\n",
    "        discount_factor: Lambda discount factor.\n",
    "    \n",
    "    Returns:\n",
    "        A tuple (Q, policy).\n",
    "        Q is a dictionary mapping state -> action values.\n",
    "        policy is a function that takes an observation as an argument and returns\n",
    "        action probabilities. This is the optimal greedy policy.\n",
    "    \"\"\"\n",
    "    \n",
    "    # The final action-value function.\n",
    "    # A dictionary that maps state -> action values\n",
    "    Q = defaultdict(lambda: np.zeros(env.action_space.n))\n",
    "    # The cumulative denominator of the weighted importance sampling formula\n",
    "    # (across all episodes)\n",
    "    C = defaultdict(lambda: np.zeros(env.action_space.n))\n",
    "    \n",
    "    # Our greedily policy we want to learn\n",
    "    target_policy = create_greedy_policy(Q)\n",
    "        \n",
    "    for i_episode in range(1, num_episodes + 1):\n",
    "        # Print out which episode we're on, useful for debugging.\n",
    "        if i_episode % 1000 == 0:\n",
    "            print(\"\\rEpisode {}/{}.\".format(i_episode, num_episodes), end=\"\")\n",
    "            sys.stdout.flush()\n",
    "\n",
    "        # Generate an episode.\n",
    "        # An episode is an array of (state, action, reward) tuples\n",
    "        episode = []\n",
    "        state = env.reset()\n",
    "        for t in range(MAX_STEP):\n",
    "            # print(t)\n",
    "            # Sample an action from our policy\n",
    "            probs = behavior_policy(state)\n",
    "            #probs = env.regulate_probs(state, probs)\n",
    "            action = np.random.choice(np.arange(len(probs)), p=probs)\n",
    "            # print(\"regulated behavior policy in state {} with prob {} action {}\".format(state, probs, action))            \n",
    "            next_state, reward, done, _ = env.step(action)\n",
    "            #if np.random.randint(10000) == 0:\n",
    "            #print(\"** state {}, probs {}, action {}, next_state {}, reward {}\".format(state, probs, action, next_state, reward))            \n",
    "            # print(\"state {}, probs {}, action {}, next_state {}, done {}, reward {}\".format(state, probs, action, next_state, done, reward))            \n",
    "            episode.append((state, action, reward))\n",
    "            if done:\n",
    "                break\n",
    "            state = next_state\n",
    "        \n",
    "        # Sum of discounted returns\n",
    "        G = 0.0\n",
    "        # The importance sampling ratio (the weights of the returns)\n",
    "        W = 1.0\n",
    "        # For each step in the episode, backwards\n",
    "        # print(\"Start\")\n",
    "        for t in range(len(episode))[::-1]:\n",
    "            state, action, reward = episode[t]\n",
    "            # Update the total reward since step t\n",
    "            G = discount_factor * G + reward\n",
    "            # Update weighted importance sampling formula denominator\n",
    "            C[state][action] += W\n",
    "            # Update the action-value function using the incremental update formula (5.7)\n",
    "            # This also improves our target policy which holds a reference to Q\n",
    "            # Q가 업데이트되면 타겟 정책도 향상\n",
    "            qd = (W / C[state][action]) * (G - Q[state][action])\n",
    "            #if np.random.randint(10000) == 0:\n",
    "            #print(\"1  state {}, G {}, W {}, C {}, Q {}, qd {}, action {}, reward {}\".format(state, G, W, C[state][action], Q[state][action], qd, action, reward))\n",
    "            Q[state][action] += qd\n",
    "            # print(\"  state {}, G {}, W {}, C {}, Q {}, action {}, reward {}\".format(state, G, W, C[state][action], Q[state][action], action, reward))\n",
    "            # If the action taken by the behavior policy is not the action \n",
    "            # taken by the target policy the probability will be 0 and we can break\n",
    "            # 행위 정책에 의한 현재 동작이 타겟 정책에서는 나오지 않으면 멈추고 새로운 에피소드로\n",
    "            if action !=  np.argmax(target_policy(state)):\n",
    "                # print(\"  behavior policy {} not equal to target policy in {}. skip\".format(action, state))\n",
    "                break\n",
    "            bepol = behavior_policy(state)[action]\n",
    "            # if bepol == 0.0:\n",
    "            #    print(\"behavior_policy with state {}, action {} is zero prob! {}\".format(state, action, behavior_policy(state)))\n",
    "            #    break\n",
    "            # if bepol == 0.0:\n",
    "            #     print(\"3  state {}, G {}, W {}, C {}, Q {}, action {}, reward {}\".format(state, G, W, C[state][action], Q[state][action], action, reward))\n",
    "            # print(\"    behavior_policy {}\".format(bepol))\n",
    "            W = W * 1./bepol\n",
    "        \n",
    "    return Q, target_policy"
   ]
  },
  {
   "cell_type": "code",
   "execution_count": 7,
   "metadata": {
    "collapsed": false,
    "scrolled": true
   },
   "outputs": [
    {
     "name": "stdout",
     "output_type": "stream",
     "text": [
      "Episode 1000000/1000000."
     ]
    }
   ],
   "source": [
    "if os.path.isfile(SAVE_FILE):\n",
    "    Q, policy = env.load(SAVE_FILE, create_greedy_policy)\n",
    "else:\n",
    "    random_policy = create_random_policy(env)\n",
    "    Q, policy = mc_control_importance_sampling(env, num_episodes=N_EPISODE,\n",
    "                                               behavior_policy=random_policy)\n",
    "    env.save(Q, SAVE_FILE)\n",
    "    policy = create_greedy_policy(Q)    "
   ]
  },
  {
   "cell_type": "code",
   "execution_count": 8,
   "metadata": {
    "collapsed": false
   },
   "outputs": [
    {
     "name": "stdout",
     "output_type": "stream",
     "text": [
      "0.0\n"
     ]
    }
   ],
   "source": [
    "print(env.score(policy))"
   ]
  },
  {
   "cell_type": "code",
   "execution_count": 9,
   "metadata": {
    "collapsed": false
   },
   "outputs": [
    {
     "name": "stdout",
     "output_type": "stream",
     "text": [
      "turn 21/100, state (38, 3, 0, 0), action, 2, reward 1, done False\n",
      "#######################################################################\n",
      "#######################################################################\n",
      "#################################################################ffff##\n",
      "###################################........####################ffffff##\n",
      "#################################......O......################..fffff##\n",
      "################################...............##############....fff###\n",
      "###############################.................############......#####\n",
      "#############################.......#####.......############.....######\n",
      "#############################.....#########.....############....#######\n",
      "##s......###################.....###########....###########.....#######\n",
      "##s........################....#############....###########....########\n",
      "##s.........##############.....#############....###########....########\n",
      "########.....###########......###############...###########....########\n",
      "##########....########.......################....#########.....########\n",
      "############................#################.....#######.....#########\n",
      "#############..............###################................#########\n",
      "###############.........#######################..............##########\n",
      "#################################################............##########\n",
      "###################################################.......#############\n",
      "#######################################################################\n",
      "#######################################################################\n"
     ]
    },
    {
     "ename": "KeyboardInterrupt",
     "evalue": "",
     "output_type": "error",
     "traceback": [
      "\u001b[0;31m---------------------------------------------------------------------------\u001b[0m",
      "\u001b[0;31mKeyboardInterrupt\u001b[0m                         Traceback (most recent call last)",
      "\u001b[0;32m<ipython-input-9-deceda3920a3>\u001b[0m in \u001b[0;36m<module>\u001b[0;34m()\u001b[0m\n\u001b[0;32m----> 1\u001b[0;31m \u001b[0menv\u001b[0m\u001b[0;34m.\u001b[0m\u001b[0mplay\u001b[0m\u001b[0;34m(\u001b[0m\u001b[0mpolicy\u001b[0m\u001b[0;34m)\u001b[0m\u001b[0;34m\u001b[0m\u001b[0m\n\u001b[0m",
      "\u001b[0;32m/Users/haje01/studies/rl/racetrack_env.py\u001b[0m in \u001b[0;36mplay\u001b[0;34m(self, policy, render_type)\u001b[0m\n\u001b[1;32m    333\u001b[0m                         \u001b[0mprint\u001b[0m\u001b[0;34m(\u001b[0m\u001b[0;34m\"Success!\"\u001b[0m\u001b[0;34m)\u001b[0m\u001b[0;34m\u001b[0m\u001b[0m\n\u001b[1;32m    334\u001b[0m                         \u001b[0mtime\u001b[0m\u001b[0;34m.\u001b[0m\u001b[0msleep\u001b[0m\u001b[0;34m(\u001b[0m\u001b[0;36m1\u001b[0m\u001b[0;34m)\u001b[0m\u001b[0;34m\u001b[0m\u001b[0m\n\u001b[0;32m--> 335\u001b[0;31m                     \u001b[0mtime\u001b[0m\u001b[0;34m.\u001b[0m\u001b[0msleep\u001b[0m\u001b[0;34m(\u001b[0m\u001b[0;36m0.2\u001b[0m\u001b[0;34m)\u001b[0m\u001b[0;34m\u001b[0m\u001b[0m\n\u001b[0m\u001b[1;32m    336\u001b[0m                 \u001b[0;32mif\u001b[0m \u001b[0mdone\u001b[0m \u001b[0;32mand\u001b[0m \u001b[0mreward\u001b[0m \u001b[0;34m==\u001b[0m \u001b[0mREWARD_SUCCESS\u001b[0m\u001b[0;34m:\u001b[0m\u001b[0;34m\u001b[0m\u001b[0m\n\u001b[1;32m    337\u001b[0m                     \u001b[0mn_succ\u001b[0m \u001b[0;34m+=\u001b[0m \u001b[0;36m1\u001b[0m\u001b[0;34m\u001b[0m\u001b[0m\n",
      "\u001b[0;31mKeyboardInterrupt\u001b[0m: "
     ]
    }
   ],
   "source": [
    "env.play(policy)"
   ]
  },
  {
   "cell_type": "code",
   "execution_count": 11,
   "metadata": {
    "collapsed": false
   },
   "outputs": [
    {
     "data": {
      "text/plain": [
       "739"
      ]
     },
     "execution_count": 11,
     "metadata": {},
     "output_type": "execute_result"
    }
   ],
   "source": [
    "len(Q)"
   ]
  },
  {
   "cell_type": "code",
   "execution_count": null,
   "metadata": {
    "collapsed": true
   },
   "outputs": [],
   "source": []
  }
 ],
 "metadata": {
  "kernelspec": {
   "display_name": "Python 3",
   "language": "python",
   "name": "python3"
  },
  "language_info": {
   "codemirror_mode": {
    "name": "ipython",
    "version": 3
   },
   "file_extension": ".py",
   "mimetype": "text/x-python",
   "name": "python",
   "nbconvert_exporter": "python",
   "pygments_lexer": "ipython3",
   "version": "3.5.1"
  },
  "toc": {
   "nav_menu": {
    "height": "12px",
    "width": "252px"
   },
   "navigate_menu": true,
   "number_sections": true,
   "sideBar": true,
   "threshold": 4,
   "toc_cell": false,
   "toc_section_display": "block",
   "toc_window_display": false
  }
 },
 "nbformat": 4,
 "nbformat_minor": 1
}
